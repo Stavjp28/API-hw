{
 "cells": [
  {
   "cell_type": "markdown",
   "metadata": {},
   "source": [
    "# Unit 5 - Financial Planning"
   ]
  },
  {
   "cell_type": "code",
   "execution_count": 3,
   "metadata": {},
   "outputs": [],
   "source": [
    "# Initial imports\n",
    "import os\n",
    "import requests\n",
    "import pandas as pd\n",
    "from dotenv import load_dotenv\n",
    "import alpaca_trade_api as tradeapi\n",
    "from MCForecastTools import MCSimulation\n",
    "import warnings \n",
    "warnings.filterwarnings(\"ignore\")\n",
    "\n",
    "%matplotlib inline"
   ]
  },
  {
   "cell_type": "code",
   "execution_count": 4,
   "metadata": {},
   "outputs": [
    {
     "data": {
      "text/plain": [
       "True"
      ]
     },
     "execution_count": 4,
     "metadata": {},
     "output_type": "execute_result"
    }
   ],
   "source": [
    "# Load .env enviroment variables\n",
    "load_dotenv()"
   ]
  },
  {
   "cell_type": "markdown",
   "metadata": {},
   "source": [
    "## Part 1 - Personal Finance Planner"
   ]
  },
  {
   "cell_type": "markdown",
   "metadata": {},
   "source": [
    "### Collect Crypto Prices Using the `requests` Library"
   ]
  },
  {
   "cell_type": "code",
   "execution_count": 5,
   "metadata": {},
   "outputs": [],
   "source": [
    "# Set current amount of crypto assets\n",
    "# YOUR CODE HERE!\n",
    "my_btc = 1.2\n",
    "my_eth = 5.3\n"
   ]
  },
  {
   "cell_type": "code",
   "execution_count": 6,
   "metadata": {},
   "outputs": [],
   "source": [
    "# Crypto API URLs\n",
    "btc_url = \"https://api.alternative.me/v2/ticker/Bitcoin/?convert=USD\"\n",
    "eth_url = \"https://api.alternative.me/v2/ticker/Ethereum/?convert=USD\""
   ]
  },
  {
   "cell_type": "code",
   "execution_count": 7,
   "metadata": {},
   "outputs": [
    {
     "name": "stdout",
     "output_type": "stream",
     "text": [
      "The current value of your 1.2 BTC is $31494.00\n",
      "The current value of your 5.3 ETH is $8409.83\n"
     ]
    }
   ],
   "source": [
    "# Fetch current BTC price\n",
    "# YOUR CODE HERE!\n",
    "import requests\n",
    "response_btc = requests.get(btc_url)\n",
    "btc_symbol = 'BTC'\n",
    "data_btc= response_btc.json()\n",
    "btc_price = data_btc['data']['1']['quotes']['USD']['price']\n",
    "crypto_prices = {}\n",
    "\n",
    "# Fetch current ETH price\n",
    "# YOUR CODE HERE!\n",
    "response_eth = requests.get(eth_url)\n",
    "eth_symbol = 'ETH'\n",
    "data_eth = response_eth.json()\n",
    "eth_price = data_eth['data']['1027']['quotes']['USD']['price']\n",
    "crypto_prices['ETH'] = eth_price\n",
    "\n",
    "# Compute current value of my crpto\n",
    "# YOUR CODE HERE!\n",
    "my_btc_value = my_btc * btc_price\n",
    "my_eth_value = my_eth * eth_price\n",
    "\n",
    "# Print current crypto wallet balance\n",
    "print(f\"The current value of your {my_btc} BTC is ${my_btc_value:0.2f}\")\n",
    "print(f\"The current value of your {my_eth} ETH is ${my_eth_value:0.2f}\")"
   ]
  },
  {
   "cell_type": "markdown",
   "metadata": {},
   "source": [
    "### Collect Investments Data Using Alpaca: `SPY` (stocks) and `AGG` (bonds)"
   ]
  },
  {
   "cell_type": "code",
   "execution_count": 8,
   "metadata": {},
   "outputs": [],
   "source": [
    "# Set current amount of shares\n",
    "my_agg = 200\n",
    "my_spy = 50"
   ]
  },
  {
   "cell_type": "code",
   "execution_count": 9,
   "metadata": {},
   "outputs": [],
   "source": [
    "# Set Alpaca API key and secret\n",
    "# YOUR CODE HERE!\n",
    "api_key = 'PK2BZI9OWVAF62058QD2'\n",
    "secret_key = 'brLZNeoXr6T38ICbd4zGsyUaVLQtx2lzFi8iWwlM'\n",
    "# Create the Alpaca API object\n",
    "# YOUR CODE HERE!\n",
    "api = tradeapi.REST(api_key, secret_key, base_url=\"https://paper-api.alpaca.markets\") "
   ]
  },
  {
   "cell_type": "code",
   "execution_count": 10,
   "metadata": {},
   "outputs": [
    {
     "data": {
      "text/html": [
       "<div>\n",
       "<style scoped>\n",
       "    .dataframe tbody tr th:only-of-type {\n",
       "        vertical-align: middle;\n",
       "    }\n",
       "\n",
       "    .dataframe tbody tr th {\n",
       "        vertical-align: top;\n",
       "    }\n",
       "\n",
       "    .dataframe thead tr th {\n",
       "        text-align: left;\n",
       "    }\n",
       "\n",
       "    .dataframe thead tr:last-of-type th {\n",
       "        text-align: right;\n",
       "    }\n",
       "</style>\n",
       "<table border=\"1\" class=\"dataframe\">\n",
       "  <thead>\n",
       "    <tr>\n",
       "      <th></th>\n",
       "      <th colspan=\"7\" halign=\"left\">AGG</th>\n",
       "      <th colspan=\"7\" halign=\"left\">SPY</th>\n",
       "    </tr>\n",
       "    <tr>\n",
       "      <th></th>\n",
       "      <th>open</th>\n",
       "      <th>high</th>\n",
       "      <th>low</th>\n",
       "      <th>close</th>\n",
       "      <th>volume</th>\n",
       "      <th>trade_count</th>\n",
       "      <th>vwap</th>\n",
       "      <th>open</th>\n",
       "      <th>high</th>\n",
       "      <th>low</th>\n",
       "      <th>close</th>\n",
       "      <th>volume</th>\n",
       "      <th>trade_count</th>\n",
       "      <th>vwap</th>\n",
       "    </tr>\n",
       "    <tr>\n",
       "      <th>timestamp</th>\n",
       "      <th></th>\n",
       "      <th></th>\n",
       "      <th></th>\n",
       "      <th></th>\n",
       "      <th></th>\n",
       "      <th></th>\n",
       "      <th></th>\n",
       "      <th></th>\n",
       "      <th></th>\n",
       "      <th></th>\n",
       "      <th></th>\n",
       "      <th></th>\n",
       "      <th></th>\n",
       "      <th></th>\n",
       "    </tr>\n",
       "  </thead>\n",
       "  <tbody>\n",
       "    <tr>\n",
       "      <th>2023-09-22 04:00:00+00:00</th>\n",
       "      <td>94.78</td>\n",
       "      <td>95.09</td>\n",
       "      <td>94.73</td>\n",
       "      <td>95.05</td>\n",
       "      <td>7294228</td>\n",
       "      <td>21212</td>\n",
       "      <td>95.01306</td>\n",
       "      <td>432.45</td>\n",
       "      <td>434.1</td>\n",
       "      <td>429.99</td>\n",
       "      <td>430.42</td>\n",
       "      <td>100829684</td>\n",
       "      <td>637168</td>\n",
       "      <td>431.737394</td>\n",
       "    </tr>\n",
       "  </tbody>\n",
       "</table>\n",
       "</div>"
      ],
      "text/plain": [
       "                             AGG                                            \\\n",
       "                            open   high    low  close   volume trade_count   \n",
       "timestamp                                                                    \n",
       "2023-09-22 04:00:00+00:00  94.78  95.09  94.73  95.05  7294228       21212   \n",
       "\n",
       "                                        SPY                                    \\\n",
       "                               vwap    open   high     low   close     volume   \n",
       "timestamp                                                                       \n",
       "2023-09-22 04:00:00+00:00  95.01306  432.45  434.1  429.99  430.42  100829684   \n",
       "\n",
       "                                                   \n",
       "                          trade_count        vwap  \n",
       "timestamp                                          \n",
       "2023-09-22 04:00:00+00:00      637168  431.737394  "
      ]
     },
     "execution_count": 10,
     "metadata": {},
     "output_type": "execute_result"
    }
   ],
   "source": [
    "# Format current date as ISO format\n",
    "# YOUR CODE HERE!\n",
    "import alpaca_trade_api as tradeapi\n",
    "import pandas as pd\n",
    "from datetime import datetime\n",
    "\n",
    "current_date_iso =  pd.Timestamp(\"2023-09-22\", tz=\"America/New_York\").isoformat()\n",
    "#end_date = pd.Timestamp(\"2023-09-23\", tz=\"America/New_York\").isoformat()\n",
    "\n",
    "# Set the tickers\n",
    "tickers = [\"AGG\", \"SPY\"]\n",
    "\n",
    "# Set timeframe to \"1Day\" for Alpaca API\n",
    "timeframe = \"1Day\"\n",
    "\n",
    "# Get current closing prices for SPY and AGG\n",
    "# YOUR CODE HERE!\n",
    "closing_prices = api.get_bars(\n",
    "    tickers,\n",
    "    timeframe,\n",
    "    start=current_date_iso,\n",
    "     end=current_date_iso,\n",
    "    \n",
    ").df\n",
    "#closing_prices\n",
    "\n",
    "# Reorganize the DataFrame\n",
    "# Separate ticker data\n",
    "# YOUR CODE HERE!\n",
    "\n",
    "agg = closing_prices[closing_prices[\"symbol\"]==\"AGG\"].drop(\"symbol\", axis=1)\n",
    "spy = closing_prices[closing_prices[\"symbol\"]==\"SPY\"].drop(\"symbol\", axis=1)\n",
    "\n",
    "\n",
    "\n",
    "# Concatenate the ticker DataFrames\n",
    "# YOUR CODE HERE!\n",
    "closing_prices = pd.concat([agg,spy], axis=1, keys=[\"AGG\",\"SPY\"])\n",
    "\n",
    "# Preview DataFrame\n",
    "# YOUR CODE HERE!\n",
    "closing_prices"
   ]
  },
  {
   "cell_type": "code",
   "execution_count": 11,
   "metadata": {},
   "outputs": [
    {
     "name": "stdout",
     "output_type": "stream",
     "text": [
      "Current AGG closing price: $95.05\n",
      "Current SPY closing price: $430.42\n"
     ]
    }
   ],
   "source": [
    "# Pick AGG and SPY close prices\n",
    "# YOUR CODE HERE!\n",
    "agg_close_price = agg[\"close\"][0]\n",
    "spy_close_price = spy[\"close\"][0]\n",
    "# Print AGG and SPY close prices\n",
    "print(f\"Current AGG closing price: ${agg_close_price}\")\n",
    "print(f\"Current SPY closing price: ${spy_close_price}\")"
   ]
  },
  {
   "cell_type": "code",
   "execution_count": 12,
   "metadata": {},
   "outputs": [
    {
     "name": "stdout",
     "output_type": "stream",
     "text": [
      "The current value of your 50 SPY shares is $21521.00\n",
      "The current value of your 200 AGG shares is $19010.00\n"
     ]
    }
   ],
   "source": [
    "# Compute the current value of shares\n",
    "# YOUR CODE HERE!\n",
    "my_spy_value = my_spy * spy_close_price\n",
    "my_agg_value = my_agg * agg_close_price\n",
    "# Print current value of shares\n",
    "print(f\"The current value of your {my_spy} SPY shares is ${my_spy_value:0.2f}\")\n",
    "print(f\"The current value of your {my_agg} AGG shares is ${my_agg_value:0.2f}\")"
   ]
  },
  {
   "cell_type": "markdown",
   "metadata": {},
   "source": [
    "### Savings Health Analysis"
   ]
  },
  {
   "cell_type": "code",
   "execution_count": 13,
   "metadata": {},
   "outputs": [
    {
     "data": {
      "text/html": [
       "<div>\n",
       "<style scoped>\n",
       "    .dataframe tbody tr th:only-of-type {\n",
       "        vertical-align: middle;\n",
       "    }\n",
       "\n",
       "    .dataframe tbody tr th {\n",
       "        vertical-align: top;\n",
       "    }\n",
       "\n",
       "    .dataframe thead th {\n",
       "        text-align: right;\n",
       "    }\n",
       "</style>\n",
       "<table border=\"1\" class=\"dataframe\">\n",
       "  <thead>\n",
       "    <tr style=\"text-align: right;\">\n",
       "      <th></th>\n",
       "      <th>Category</th>\n",
       "      <th>Value</th>\n",
       "    </tr>\n",
       "  </thead>\n",
       "  <tbody>\n",
       "    <tr>\n",
       "      <th>0</th>\n",
       "      <td>Monthly Income</td>\n",
       "      <td>5000.0</td>\n",
       "    </tr>\n",
       "    <tr>\n",
       "      <th>1</th>\n",
       "      <td>Total Assets</td>\n",
       "      <td>40781.0</td>\n",
       "    </tr>\n",
       "    <tr>\n",
       "      <th>2</th>\n",
       "      <td>Savings</td>\n",
       "      <td>45781.0</td>\n",
       "    </tr>\n",
       "  </tbody>\n",
       "</table>\n",
       "</div>"
      ],
      "text/plain": [
       "         Category    Value\n",
       "0  Monthly Income   5000.0\n",
       "1    Total Assets  40781.0\n",
       "2         Savings  45781.0"
      ]
     },
     "metadata": {},
     "output_type": "display_data"
    }
   ],
   "source": [
    "# Set monthly household income\n",
    "# YOUR CODE HERE!\n",
    "monthly_income = 5000 \n",
    "# Consolidate financial assets data\n",
    "# YOUR CODE HERE!\n",
    "financial_assets_data = {\n",
    "    'Asset Type': ['Savings Account', 'Stocks (SPY)', 'Bonds (AGG)'],\n",
    "    'Asset Value': [250, my_spy_value, my_agg_value]  \n",
    "}\n",
    "\n",
    "# Create savings DataFrame\n",
    "# YOUR CODE HERE!\n",
    "# Create a DataFrame from the financial assets data\n",
    "df_financial_assets = pd.DataFrame(financial_assets_data)\n",
    "\n",
    "# Calculate the total assets value\n",
    "total_assets_value = df_financial_assets['Asset Value'].sum()\n",
    "\n",
    "savings_data = {\n",
    "    'Category': ['Monthly Income', 'Total Assets', 'Savings'],\n",
    "    'Value': [monthly_income, total_assets_value, (monthly_income + total_assets_value)]\n",
    "}\n",
    "df_savings = pd.DataFrame(savings_data)\n",
    "# Display savings DataFrame\n",
    "display(df_savings)"
   ]
  },
  {
   "cell_type": "code",
   "execution_count": 14,
   "metadata": {},
   "outputs": [
    {
     "data": {
      "image/png": "[encoded data removed]",
      "text/plain": [
       "<Figure size 800x800 with 1 Axes>"
      ]
     },
     "metadata": {},
     "output_type": "display_data"
    }
   ],
   "source": [
    "# Plot savings pie chart\n",
    "# YOUR CODE HERE!\n",
    "import pandas as pd\n",
    "import matplotlib.pyplot as plt\n",
    "\n",
    "\n",
    "\n",
    "# Plot a pie chart for the savings DataFrame\n",
    "df_savings.plot.pie(y='Value', labels=df_savings['Category'], autopct='%1.1f%%', figsize=(8, 8))\n",
    "plt.title('Savings Breakdown')\n",
    "plt.axis('equal') \n",
    "plt.show()\n"
   ]
  },
  {
   "cell_type": "code",
   "execution_count": 15,
   "metadata": {},
   "outputs": [
    {
     "name": "stdout",
     "output_type": "stream",
     "text": [
      "Congratulations! Your savings are sufficient for emergencies.\n"
     ]
    }
   ],
   "source": [
    "# Set ideal emergency fund\n",
    "emergency_fund = monthly_income * 3\n",
    "\n",
    "# Calculate total amount of savings\n",
    "# YOUR CODE HERE!\n",
    "total_savings = df_savings[df_savings['Category'] == 'Total Assets']['Value'].values[0]\n",
    "\n",
    "# Validate saving health\n",
    "# YOUR CODE HERE!\n",
    "if total_savings >= emergency_fund:\n",
    "    print(\"Congratulations! Your savings are sufficient for emergencies.\")\n",
    "else:\n",
    "    print(\"You may want to consider saving more for emergencies. It's a good financial practice.\")\n"
   ]
  },
  {
   "cell_type": "markdown",
   "metadata": {},
   "source": [
    "## Part 2 - Retirement Planning\n",
    "\n",
    "### Monte Carlo Simulation"
   ]
  },
  {
   "cell_type": "code",
   "execution_count": 16,
   "metadata": {},
   "outputs": [],
   "source": [
    "# Set start and end dates of five years back from today.\n",
    "# Sample results may vary from the solution based on the time frame chosen\n",
    "start_date = pd.Timestamp('2016-05-01', tz='America/New_York').isoformat()\n",
    "end_date = pd.Timestamp('2021-05-01', tz='America/New_York').isoformat()"
   ]
  },
  {
   "cell_type": "code",
   "execution_count": 17,
   "metadata": {},
   "outputs": [
    {
     "data": {
      "text/html": [
       "<div>\n",
       "<style scoped>\n",
       "    .dataframe tbody tr th:only-of-type {\n",
       "        vertical-align: middle;\n",
       "    }\n",
       "\n",
       "    .dataframe tbody tr th {\n",
       "        vertical-align: top;\n",
       "    }\n",
       "\n",
       "    .dataframe thead tr th {\n",
       "        text-align: left;\n",
       "    }\n",
       "\n",
       "    .dataframe thead tr:last-of-type th {\n",
       "        text-align: right;\n",
       "    }\n",
       "</style>\n",
       "<table border=\"1\" class=\"dataframe\">\n",
       "  <thead>\n",
       "    <tr>\n",
       "      <th></th>\n",
       "      <th colspan=\"7\" halign=\"left\">AGG</th>\n",
       "      <th colspan=\"7\" halign=\"left\">SPY</th>\n",
       "    </tr>\n",
       "    <tr>\n",
       "      <th></th>\n",
       "      <th>open</th>\n",
       "      <th>high</th>\n",
       "      <th>low</th>\n",
       "      <th>close</th>\n",
       "      <th>volume</th>\n",
       "      <th>trade_count</th>\n",
       "      <th>vwap</th>\n",
       "      <th>open</th>\n",
       "      <th>high</th>\n",
       "      <th>low</th>\n",
       "      <th>close</th>\n",
       "      <th>volume</th>\n",
       "      <th>trade_count</th>\n",
       "      <th>vwap</th>\n",
       "    </tr>\n",
       "    <tr>\n",
       "      <th>timestamp</th>\n",
       "      <th></th>\n",
       "      <th></th>\n",
       "      <th></th>\n",
       "      <th></th>\n",
       "      <th></th>\n",
       "      <th></th>\n",
       "      <th></th>\n",
       "      <th></th>\n",
       "      <th></th>\n",
       "      <th></th>\n",
       "      <th></th>\n",
       "      <th></th>\n",
       "      <th></th>\n",
       "      <th></th>\n",
       "    </tr>\n",
       "  </thead>\n",
       "  <tbody>\n",
       "    <tr>\n",
       "      <th>2016-05-02 04:00:00+00:00</th>\n",
       "      <td>110.74</td>\n",
       "      <td>110.7400</td>\n",
       "      <td>110.5200</td>\n",
       "      <td>110.605</td>\n",
       "      <td>3553939</td>\n",
       "      <td>15119</td>\n",
       "      <td>110.627199</td>\n",
       "      <td>206.92</td>\n",
       "      <td>208.18</td>\n",
       "      <td>206.41</td>\n",
       "      <td>207.9700</td>\n",
       "      <td>61908515</td>\n",
       "      <td>263580</td>\n",
       "      <td>207.294812</td>\n",
       "    </tr>\n",
       "    <tr>\n",
       "      <th>2016-05-03 04:00:00+00:00</th>\n",
       "      <td>110.89</td>\n",
       "      <td>110.9450</td>\n",
       "      <td>110.7500</td>\n",
       "      <td>110.810</td>\n",
       "      <td>3044940</td>\n",
       "      <td>15662</td>\n",
       "      <td>110.865995</td>\n",
       "      <td>206.52</td>\n",
       "      <td>206.80</td>\n",
       "      <td>205.28</td>\n",
       "      <td>206.1592</td>\n",
       "      <td>106422142</td>\n",
       "      <td>377518</td>\n",
       "      <td>206.312060</td>\n",
       "    </tr>\n",
       "    <tr>\n",
       "      <th>2016-05-04 04:00:00+00:00</th>\n",
       "      <td>110.91</td>\n",
       "      <td>110.9315</td>\n",
       "      <td>110.7595</td>\n",
       "      <td>110.860</td>\n",
       "      <td>2920608</td>\n",
       "      <td>13982</td>\n",
       "      <td>110.879063</td>\n",
       "      <td>204.99</td>\n",
       "      <td>205.85</td>\n",
       "      <td>204.42</td>\n",
       "      <td>205.0100</td>\n",
       "      <td>92199810</td>\n",
       "      <td>345261</td>\n",
       "      <td>205.090172</td>\n",
       "    </tr>\n",
       "    <tr>\n",
       "      <th>2016-05-05 04:00:00+00:00</th>\n",
       "      <td>110.92</td>\n",
       "      <td>111.1600</td>\n",
       "      <td>110.8010</td>\n",
       "      <td>111.140</td>\n",
       "      <td>3008142</td>\n",
       "      <td>15707</td>\n",
       "      <td>111.028363</td>\n",
       "      <td>205.56</td>\n",
       "      <td>205.98</td>\n",
       "      <td>204.47</td>\n",
       "      <td>204.9700</td>\n",
       "      <td>67597222</td>\n",
       "      <td>280622</td>\n",
       "      <td>205.141555</td>\n",
       "    </tr>\n",
       "    <tr>\n",
       "      <th>2016-05-06 04:00:00+00:00</th>\n",
       "      <td>111.12</td>\n",
       "      <td>111.1200</td>\n",
       "      <td>110.9700</td>\n",
       "      <td>110.970</td>\n",
       "      <td>2718710</td>\n",
       "      <td>12697</td>\n",
       "      <td>111.031967</td>\n",
       "      <td>204.08</td>\n",
       "      <td>205.77</td>\n",
       "      <td>203.88</td>\n",
       "      <td>205.7200</td>\n",
       "      <td>89131004</td>\n",
       "      <td>340335</td>\n",
       "      <td>204.937074</td>\n",
       "    </tr>\n",
       "  </tbody>\n",
       "</table>\n",
       "</div>"
      ],
      "text/plain": [
       "                              AGG                                        \\\n",
       "                             open      high       low    close   volume   \n",
       "timestamp                                                                 \n",
       "2016-05-02 04:00:00+00:00  110.74  110.7400  110.5200  110.605  3553939   \n",
       "2016-05-03 04:00:00+00:00  110.89  110.9450  110.7500  110.810  3044940   \n",
       "2016-05-04 04:00:00+00:00  110.91  110.9315  110.7595  110.860  2920608   \n",
       "2016-05-05 04:00:00+00:00  110.92  111.1600  110.8010  111.140  3008142   \n",
       "2016-05-06 04:00:00+00:00  111.12  111.1200  110.9700  110.970  2718710   \n",
       "\n",
       "                                                      SPY                  \\\n",
       "                          trade_count        vwap    open    high     low   \n",
       "timestamp                                                                   \n",
       "2016-05-02 04:00:00+00:00       15119  110.627199  206.92  208.18  206.41   \n",
       "2016-05-03 04:00:00+00:00       15662  110.865995  206.52  206.80  205.28   \n",
       "2016-05-04 04:00:00+00:00       13982  110.879063  204.99  205.85  204.42   \n",
       "2016-05-05 04:00:00+00:00       15707  111.028363  205.56  205.98  204.47   \n",
       "2016-05-06 04:00:00+00:00       12697  111.031967  204.08  205.77  203.88   \n",
       "\n",
       "                                                                        \n",
       "                              close     volume trade_count        vwap  \n",
       "timestamp                                                               \n",
       "2016-05-02 04:00:00+00:00  207.9700   61908515      263580  207.294812  \n",
       "2016-05-03 04:00:00+00:00  206.1592  106422142      377518  206.312060  \n",
       "2016-05-04 04:00:00+00:00  205.0100   92199810      345261  205.090172  \n",
       "2016-05-05 04:00:00+00:00  204.9700   67597222      280622  205.141555  \n",
       "2016-05-06 04:00:00+00:00  205.7200   89131004      340335  204.937074  "
      ]
     },
     "execution_count": 17,
     "metadata": {},
     "output_type": "execute_result"
    }
   ],
   "source": [
    "# Get 5 years' worth of historical data for SPY and AGG\n",
    "# YOUR CODE HERE!\n",
    "tickers = [\"AGG\",\"SPY\"]\n",
    "df_stock_data = api.get_bars(\n",
    "    tickers,\n",
    "    timeframe,\n",
    "    start=start_date,\n",
    "    end=end_date\n",
    ").df\n",
    "\n",
    "\n",
    "# Reorganize the DataFrame\n",
    "# Separate ticker data\n",
    "# YOUR CODE HERE!\n",
    "agg = df_stock_data[df_stock_data[\"symbol\"]==\"AGG\"].drop(\"symbol\", axis=1)\n",
    "spy = df_stock_data[df_stock_data[\"symbol\"]==\"SPY\"].drop(\"symbol\", axis=1)\n",
    "\n",
    "# Concatenate the ticker DataFrames\n",
    "# YOUR CODE HERE!\n",
    "df_stock_data = pd.concat([agg,spy], axis=1, keys=[\"AGG\",\"SPY\"])\n",
    "\n",
    "# Display sample data\n",
    "df_stock_data.head()"
   ]
  },
  {
   "cell_type": "code",
   "execution_count": 18,
   "metadata": {},
   "outputs": [],
   "source": [
    "# Configuring a Monte Carlo simulation to forecast 30 years cumulative returns\n",
    "# YOUR CODE HERE!\n",
    "MC_even_dist = MCSimulation(\n",
    "    portfolio_data=df_stock_data,\n",
    "    weights=[0.50, 0.50],  # 50% allocation to each asset\n",
    "    num_simulation=1000,\n",
    "    num_trading_days=252 * 30  # Assuming 252 trading days in a year for 30 years\n",
    ")"
   ]
  },
  {
   "cell_type": "code",
   "execution_count": 19,
   "metadata": {},
   "outputs": [
    {
     "data": {
      "text/html": [
       "<div>\n",
       "<style scoped>\n",
       "    .dataframe tbody tr th:only-of-type {\n",
       "        vertical-align: middle;\n",
       "    }\n",
       "\n",
       "    .dataframe tbody tr th {\n",
       "        vertical-align: top;\n",
       "    }\n",
       "\n",
       "    .dataframe thead tr th {\n",
       "        text-align: left;\n",
       "    }\n",
       "\n",
       "    .dataframe thead tr:last-of-type th {\n",
       "        text-align: right;\n",
       "    }\n",
       "</style>\n",
       "<table border=\"1\" class=\"dataframe\">\n",
       "  <thead>\n",
       "    <tr>\n",
       "      <th></th>\n",
       "      <th colspan=\"8\" halign=\"left\">AGG</th>\n",
       "      <th colspan=\"8\" halign=\"left\">SPY</th>\n",
       "    </tr>\n",
       "    <tr>\n",
       "      <th></th>\n",
       "      <th>open</th>\n",
       "      <th>high</th>\n",
       "      <th>low</th>\n",
       "      <th>close</th>\n",
       "      <th>volume</th>\n",
       "      <th>trade_count</th>\n",
       "      <th>vwap</th>\n",
       "      <th>daily_return</th>\n",
       "      <th>open</th>\n",
       "      <th>high</th>\n",
       "      <th>low</th>\n",
       "      <th>close</th>\n",
       "      <th>volume</th>\n",
       "      <th>trade_count</th>\n",
       "      <th>vwap</th>\n",
       "      <th>daily_return</th>\n",
       "    </tr>\n",
       "    <tr>\n",
       "      <th>timestamp</th>\n",
       "      <th></th>\n",
       "      <th></th>\n",
       "      <th></th>\n",
       "      <th></th>\n",
       "      <th></th>\n",
       "      <th></th>\n",
       "      <th></th>\n",
       "      <th></th>\n",
       "      <th></th>\n",
       "      <th></th>\n",
       "      <th></th>\n",
       "      <th></th>\n",
       "      <th></th>\n",
       "      <th></th>\n",
       "      <th></th>\n",
       "      <th></th>\n",
       "    </tr>\n",
       "  </thead>\n",
       "  <tbody>\n",
       "    <tr>\n",
       "      <th>2016-05-02 04:00:00+00:00</th>\n",
       "      <td>110.74</td>\n",
       "      <td>110.7400</td>\n",
       "      <td>110.5200</td>\n",
       "      <td>110.605</td>\n",
       "      <td>3553939</td>\n",
       "      <td>15119</td>\n",
       "      <td>110.627199</td>\n",
       "      <td>NaN</td>\n",
       "      <td>206.92</td>\n",
       "      <td>208.18</td>\n",
       "      <td>206.41</td>\n",
       "      <td>207.9700</td>\n",
       "      <td>61908515</td>\n",
       "      <td>263580</td>\n",
       "      <td>207.294812</td>\n",
       "      <td>NaN</td>\n",
       "    </tr>\n",
       "    <tr>\n",
       "      <th>2016-05-03 04:00:00+00:00</th>\n",
       "      <td>110.89</td>\n",
       "      <td>110.9450</td>\n",
       "      <td>110.7500</td>\n",
       "      <td>110.810</td>\n",
       "      <td>3044940</td>\n",
       "      <td>15662</td>\n",
       "      <td>110.865995</td>\n",
       "      <td>0.001853</td>\n",
       "      <td>206.52</td>\n",
       "      <td>206.80</td>\n",
       "      <td>205.28</td>\n",
       "      <td>206.1592</td>\n",
       "      <td>106422142</td>\n",
       "      <td>377518</td>\n",
       "      <td>206.312060</td>\n",
       "      <td>-0.008707</td>\n",
       "    </tr>\n",
       "    <tr>\n",
       "      <th>2016-05-04 04:00:00+00:00</th>\n",
       "      <td>110.91</td>\n",
       "      <td>110.9315</td>\n",
       "      <td>110.7595</td>\n",
       "      <td>110.860</td>\n",
       "      <td>2920608</td>\n",
       "      <td>13982</td>\n",
       "      <td>110.879063</td>\n",
       "      <td>0.000451</td>\n",
       "      <td>204.99</td>\n",
       "      <td>205.85</td>\n",
       "      <td>204.42</td>\n",
       "      <td>205.0100</td>\n",
       "      <td>92199810</td>\n",
       "      <td>345261</td>\n",
       "      <td>205.090172</td>\n",
       "      <td>-0.005574</td>\n",
       "    </tr>\n",
       "    <tr>\n",
       "      <th>2016-05-05 04:00:00+00:00</th>\n",
       "      <td>110.92</td>\n",
       "      <td>111.1600</td>\n",
       "      <td>110.8010</td>\n",
       "      <td>111.140</td>\n",
       "      <td>3008142</td>\n",
       "      <td>15707</td>\n",
       "      <td>111.028363</td>\n",
       "      <td>0.002526</td>\n",
       "      <td>205.56</td>\n",
       "      <td>205.98</td>\n",
       "      <td>204.47</td>\n",
       "      <td>204.9700</td>\n",
       "      <td>67597222</td>\n",
       "      <td>280622</td>\n",
       "      <td>205.141555</td>\n",
       "      <td>-0.000195</td>\n",
       "    </tr>\n",
       "    <tr>\n",
       "      <th>2016-05-06 04:00:00+00:00</th>\n",
       "      <td>111.12</td>\n",
       "      <td>111.1200</td>\n",
       "      <td>110.9700</td>\n",
       "      <td>110.970</td>\n",
       "      <td>2718710</td>\n",
       "      <td>12697</td>\n",
       "      <td>111.031967</td>\n",
       "      <td>-0.001530</td>\n",
       "      <td>204.08</td>\n",
       "      <td>205.77</td>\n",
       "      <td>203.88</td>\n",
       "      <td>205.7200</td>\n",
       "      <td>89131004</td>\n",
       "      <td>340335</td>\n",
       "      <td>204.937074</td>\n",
       "      <td>0.003659</td>\n",
       "    </tr>\n",
       "  </tbody>\n",
       "</table>\n",
       "</div>"
      ],
      "text/plain": [
       "                              AGG                                        \\\n",
       "                             open      high       low    close   volume   \n",
       "timestamp                                                                 \n",
       "2016-05-02 04:00:00+00:00  110.74  110.7400  110.5200  110.605  3553939   \n",
       "2016-05-03 04:00:00+00:00  110.89  110.9450  110.7500  110.810  3044940   \n",
       "2016-05-04 04:00:00+00:00  110.91  110.9315  110.7595  110.860  2920608   \n",
       "2016-05-05 04:00:00+00:00  110.92  111.1600  110.8010  111.140  3008142   \n",
       "2016-05-06 04:00:00+00:00  111.12  111.1200  110.9700  110.970  2718710   \n",
       "\n",
       "                                                                   SPY  \\\n",
       "                          trade_count        vwap daily_return    open   \n",
       "timestamp                                                                \n",
       "2016-05-02 04:00:00+00:00       15119  110.627199          NaN  206.92   \n",
       "2016-05-03 04:00:00+00:00       15662  110.865995     0.001853  206.52   \n",
       "2016-05-04 04:00:00+00:00       13982  110.879063     0.000451  204.99   \n",
       "2016-05-05 04:00:00+00:00       15707  111.028363     0.002526  205.56   \n",
       "2016-05-06 04:00:00+00:00       12697  111.031967    -0.001530  204.08   \n",
       "\n",
       "                                                                            \\\n",
       "                             high     low     close     volume trade_count   \n",
       "timestamp                                                                    \n",
       "2016-05-02 04:00:00+00:00  208.18  206.41  207.9700   61908515      263580   \n",
       "2016-05-03 04:00:00+00:00  206.80  205.28  206.1592  106422142      377518   \n",
       "2016-05-04 04:00:00+00:00  205.85  204.42  205.0100   92199810      345261   \n",
       "2016-05-05 04:00:00+00:00  205.98  204.47  204.9700   67597222      280622   \n",
       "2016-05-06 04:00:00+00:00  205.77  203.88  205.7200   89131004      340335   \n",
       "\n",
       "                                                    \n",
       "                                 vwap daily_return  \n",
       "timestamp                                           \n",
       "2016-05-02 04:00:00+00:00  207.294812          NaN  \n",
       "2016-05-03 04:00:00+00:00  206.312060    -0.008707  \n",
       "2016-05-04 04:00:00+00:00  205.090172    -0.005574  \n",
       "2016-05-05 04:00:00+00:00  205.141555    -0.000195  \n",
       "2016-05-06 04:00:00+00:00  204.937074     0.003659  "
      ]
     },
     "execution_count": 19,
     "metadata": {},
     "output_type": "execute_result"
    }
   ],
   "source": [
    "# Printing the simulation input data\n",
    "# YOUR CODE HERE!\n",
    "MC_even_dist.portfolio_data.head()"
   ]
  },
  {
   "cell_type": "code",
   "execution_count": 20,
   "metadata": {},
   "outputs": [
    {
     "name": "stdout",
     "output_type": "stream",
     "text": [
      "Running Monte Carlo simulation number 0.\n"
     ]
    },
    {
     "data": {
      "text/html": [
       "<div>\n",
       "<style scoped>\n",
       "    .dataframe tbody tr th:only-of-type {\n",
       "        vertical-align: middle;\n",
       "    }\n",
       "\n",
       "    .dataframe tbody tr th {\n",
       "        vertical-align: top;\n",
       "    }\n",
       "\n",
       "    .dataframe thead th {\n",
       "        text-align: right;\n",
       "    }\n",
       "</style>\n",
       "<table border=\"1\" class=\"dataframe\">\n",
       "  <thead>\n",
       "    <tr style=\"text-align: right;\">\n",
       "      <th></th>\n",
       "      <th>0</th>\n",
       "      <th>1</th>\n",
       "      <th>2</th>\n",
       "      <th>3</th>\n",
       "      <th>4</th>\n",
       "      <th>5</th>\n",
       "      <th>6</th>\n",
       "      <th>7</th>\n",
       "      <th>8</th>\n",
       "      <th>9</th>\n",
       "    </tr>\n",
       "  </thead>\n",
       "  <tbody>\n",
       "    <tr>\n",
       "      <th>0</th>\n",
       "      <td>1.000000</td>\n",
       "      <td>1.000000</td>\n",
       "      <td>1.000000</td>\n",
       "      <td>1.000000</td>\n",
       "      <td>1.000000</td>\n",
       "      <td>1.000000</td>\n",
       "      <td>1.000000</td>\n",
       "      <td>1.000000</td>\n",
       "      <td>1.000000</td>\n",
       "      <td>1.000000</td>\n",
       "    </tr>\n",
       "    <tr>\n",
       "      <th>1</th>\n",
       "      <td>0.998080</td>\n",
       "      <td>1.006822</td>\n",
       "      <td>0.998413</td>\n",
       "      <td>0.996440</td>\n",
       "      <td>1.000640</td>\n",
       "      <td>1.006403</td>\n",
       "      <td>0.998781</td>\n",
       "      <td>1.003533</td>\n",
       "      <td>0.995760</td>\n",
       "      <td>0.995214</td>\n",
       "    </tr>\n",
       "    <tr>\n",
       "      <th>2</th>\n",
       "      <td>1.005217</td>\n",
       "      <td>1.005579</td>\n",
       "      <td>0.997941</td>\n",
       "      <td>0.996506</td>\n",
       "      <td>0.991319</td>\n",
       "      <td>1.010475</td>\n",
       "      <td>1.000504</td>\n",
       "      <td>1.000943</td>\n",
       "      <td>0.994762</td>\n",
       "      <td>0.994233</td>\n",
       "    </tr>\n",
       "    <tr>\n",
       "      <th>3</th>\n",
       "      <td>0.998032</td>\n",
       "      <td>1.002725</td>\n",
       "      <td>0.997864</td>\n",
       "      <td>0.994599</td>\n",
       "      <td>0.988705</td>\n",
       "      <td>1.004907</td>\n",
       "      <td>0.999691</td>\n",
       "      <td>0.998750</td>\n",
       "      <td>0.992490</td>\n",
       "      <td>0.991989</td>\n",
       "    </tr>\n",
       "    <tr>\n",
       "      <th>4</th>\n",
       "      <td>0.999113</td>\n",
       "      <td>1.006864</td>\n",
       "      <td>1.002495</td>\n",
       "      <td>0.997414</td>\n",
       "      <td>0.979704</td>\n",
       "      <td>1.014340</td>\n",
       "      <td>0.999006</td>\n",
       "      <td>0.994765</td>\n",
       "      <td>0.991749</td>\n",
       "      <td>0.987989</td>\n",
       "    </tr>\n",
       "    <tr>\n",
       "      <th>...</th>\n",
       "      <td>...</td>\n",
       "      <td>...</td>\n",
       "      <td>...</td>\n",
       "      <td>...</td>\n",
       "      <td>...</td>\n",
       "      <td>...</td>\n",
       "      <td>...</td>\n",
       "      <td>...</td>\n",
       "      <td>...</td>\n",
       "      <td>...</td>\n",
       "    </tr>\n",
       "    <tr>\n",
       "      <th>7556</th>\n",
       "      <td>5.529427</td>\n",
       "      <td>7.938058</td>\n",
       "      <td>6.799890</td>\n",
       "      <td>5.920722</td>\n",
       "      <td>7.698376</td>\n",
       "      <td>27.399519</td>\n",
       "      <td>13.118381</td>\n",
       "      <td>6.350382</td>\n",
       "      <td>24.326405</td>\n",
       "      <td>8.389360</td>\n",
       "    </tr>\n",
       "    <tr>\n",
       "      <th>7557</th>\n",
       "      <td>5.567944</td>\n",
       "      <td>7.826451</td>\n",
       "      <td>6.781032</td>\n",
       "      <td>5.918194</td>\n",
       "      <td>7.672288</td>\n",
       "      <td>27.417352</td>\n",
       "      <td>13.127143</td>\n",
       "      <td>6.335294</td>\n",
       "      <td>24.381122</td>\n",
       "      <td>8.365964</td>\n",
       "    </tr>\n",
       "    <tr>\n",
       "      <th>7558</th>\n",
       "      <td>5.533974</td>\n",
       "      <td>7.796614</td>\n",
       "      <td>6.811806</td>\n",
       "      <td>5.950363</td>\n",
       "      <td>7.668485</td>\n",
       "      <td>27.240573</td>\n",
       "      <td>13.126573</td>\n",
       "      <td>6.374036</td>\n",
       "      <td>24.411262</td>\n",
       "      <td>8.391868</td>\n",
       "    </tr>\n",
       "    <tr>\n",
       "      <th>7559</th>\n",
       "      <td>5.516885</td>\n",
       "      <td>7.884029</td>\n",
       "      <td>6.805596</td>\n",
       "      <td>5.875267</td>\n",
       "      <td>7.705232</td>\n",
       "      <td>27.260687</td>\n",
       "      <td>13.030553</td>\n",
       "      <td>6.389529</td>\n",
       "      <td>24.306136</td>\n",
       "      <td>8.447059</td>\n",
       "    </tr>\n",
       "    <tr>\n",
       "      <th>7560</th>\n",
       "      <td>5.531233</td>\n",
       "      <td>7.964453</td>\n",
       "      <td>6.790307</td>\n",
       "      <td>5.897641</td>\n",
       "      <td>7.745155</td>\n",
       "      <td>27.213954</td>\n",
       "      <td>12.967494</td>\n",
       "      <td>6.363051</td>\n",
       "      <td>24.423976</td>\n",
       "      <td>8.446457</td>\n",
       "    </tr>\n",
       "  </tbody>\n",
       "</table>\n",
       "<p>7561 rows × 10 columns</p>\n",
       "</div>"
      ],
      "text/plain": [
       "             0         1         2         3         4          5          6  \\\n",
       "0     1.000000  1.000000  1.000000  1.000000  1.000000   1.000000   1.000000   \n",
       "1     0.998080  1.006822  0.998413  0.996440  1.000640   1.006403   0.998781   \n",
       "2     1.005217  1.005579  0.997941  0.996506  0.991319   1.010475   1.000504   \n",
       "3     0.998032  1.002725  0.997864  0.994599  0.988705   1.004907   0.999691   \n",
       "4     0.999113  1.006864  1.002495  0.997414  0.979704   1.014340   0.999006   \n",
       "...        ...       ...       ...       ...       ...        ...        ...   \n",
       "7556  5.529427  7.938058  6.799890  5.920722  7.698376  27.399519  13.118381   \n",
       "7557  5.567944  7.826451  6.781032  5.918194  7.672288  27.417352  13.127143   \n",
       "7558  5.533974  7.796614  6.811806  5.950363  7.668485  27.240573  13.126573   \n",
       "7559  5.516885  7.884029  6.805596  5.875267  7.705232  27.260687  13.030553   \n",
       "7560  5.531233  7.964453  6.790307  5.897641  7.745155  27.213954  12.967494   \n",
       "\n",
       "             7          8         9  \n",
       "0     1.000000   1.000000  1.000000  \n",
       "1     1.003533   0.995760  0.995214  \n",
       "2     1.000943   0.994762  0.994233  \n",
       "3     0.998750   0.992490  0.991989  \n",
       "4     0.994765   0.991749  0.987989  \n",
       "...        ...        ...       ...  \n",
       "7556  6.350382  24.326405  8.389360  \n",
       "7557  6.335294  24.381122  8.365964  \n",
       "7558  6.374036  24.411262  8.391868  \n",
       "7559  6.389529  24.306136  8.447059  \n",
       "7560  6.363051  24.423976  8.446457  \n",
       "\n",
       "[7561 rows x 10 columns]"
      ]
     },
     "execution_count": 20,
     "metadata": {},
     "output_type": "execute_result"
    }
   ],
   "source": [
    "# Running a Monte Carlo simulation to forecast 30 years cumulative returns\n",
    "# YOUR CODE HERE!\n",
    "MC_even_dist.calc_cumulative_return()"
   ]
  },
  {
   "cell_type": "code",
   "execution_count": 21,
   "metadata": {},
   "outputs": [
    {
     "data": {
      "image/png": "[encoded data removed]",
      "text/plain": [
       "<Figure size 640x480 with 1 Axes>"
      ]
     },
     "metadata": {},
     "output_type": "display_data"
    }
   ],
   "source": [
    "# Plot simulation outcomes\n",
    "# YOUR CODE HERE!\n",
    "line_plot = MC_even_dist.plot_simulation()"
   ]
  },
  {
   "cell_type": "code",
   "execution_count": 22,
   "metadata": {},
   "outputs": [
    {
     "data": {
      "image/png": "[encoded data removed]",
      "text/plain": [
       "<Figure size 640x480 with 1 Axes>"
      ]
     },
     "metadata": {},
     "output_type": "display_data"
    }
   ],
   "source": [
    "# Plot probability distribution and confidence intervals\n",
    "# YOUR CODE HERE!\n",
    "dist_plot = MC_even_dist.plot_distribution()"
   ]
  },
  {
   "cell_type": "markdown",
   "metadata": {},
   "source": [
    "### Retirement Analysis"
   ]
  },
  {
   "cell_type": "code",
   "execution_count": 23,
   "metadata": {},
   "outputs": [
    {
     "name": "stdout",
     "output_type": "stream",
     "text": [
      "count           10.000000\n",
      "mean            11.334372\n",
      "std              7.939646\n",
      "min              5.531233\n",
      "25%              6.469865\n",
      "50%              7.854804\n",
      "75%             11.837235\n",
      "max             27.213954\n",
      "95% CI Lower     5.613675\n",
      "95% CI Upper    26.586209\n",
      "Name: 7560, dtype: float64\n"
     ]
    }
   ],
   "source": [
    "\n",
    "\n",
    "# Fetch summary statistics from the Monte Carlo simulation results\n",
    "sum_stats = MC_even_dist.summarize_cumulative_return()\n",
    "\n",
    "# Print summary statistics\n",
    "print(sum_stats)\n"
   ]
  },
  {
   "cell_type": "markdown",
   "metadata": {},
   "source": [
    "### Calculate the expected portfolio return at the `95%` lower and upper confidence intervals based on a `$20,000` initial investment."
   ]
  },
  {
   "cell_type": "code",
   "execution_count": 24,
   "metadata": {},
   "outputs": [
    {
     "name": "stdout",
     "output_type": "stream",
     "text": [
      "There is a 95% chance that an initial investment of $20000 in the portfolio over the next 30 years will end within in the range of $112273.49 and $531724.17\n"
     ]
    }
   ],
   "source": [
    "# Set initial investment\n",
    "initial_investment = 20000\n",
    "\n",
    "# Use the lower and upper `95%` confidence intervals to calculate the range of the possible outcomes of our $20,000\n",
    "# YOUR CODE HERE!\n",
    "ci_lower = round(sum_stats[8]*20000,2)\n",
    "ci_upper = round(sum_stats[9]*20000,2)\n",
    "\n",
    "# Print results\n",
    "print(f\"There is a 95% chance that an initial investment of ${initial_investment} in the portfolio\"\n",
    "      f\" over the next 30 years will end within in the range of\"\n",
    "      f\" ${ci_lower} and ${ci_upper}\")"
   ]
  },
  {
   "cell_type": "markdown",
   "metadata": {},
   "source": [
    "### Calculate the expected portfolio return at the `95%` lower and upper confidence intervals based on a `50%` increase in the initial investment."
   ]
  },
  {
   "cell_type": "code",
   "execution_count": 25,
   "metadata": {},
   "outputs": [
    {
     "name": "stdout",
     "output_type": "stream",
     "text": [
      "There is a 95% chance that an initial investment of $30000.0 in the portfolio over the next 30 years will end within in the range of $168410.24 and $797586.26\n"
     ]
    }
   ],
   "source": [
    "# Set initial investment\n",
    "initial_investment = 20000 * 1.5\n",
    "\n",
    "# Use the lower and upper `95%` confidence intervals to calculate the range of the possible outcomes of our $30,000\n",
    "# YOUR CODE HERE!\n",
    "ci_lower = round(sum_stats[8]*30000,2)\n",
    "ci_upper = round(sum_stats[9]*30000,2)\n",
    "# Print results\n",
    "print(f\"There is a 95% chance that an initial investment of ${initial_investment} in the portfolio\"\n",
    "      f\" over the next 30 years will end within in the range of\"\n",
    "      f\" ${ci_lower} and ${ci_upper}\")"
   ]
  },
  {
   "cell_type": "markdown",
   "metadata": {},
   "source": [
    "## Optional Challenge - Early Retirement\n",
    "\n",
    "\n",
    "### Five Years Retirement Option"
   ]
  },
  {
   "cell_type": "code",
   "execution_count": 26,
   "metadata": {},
   "outputs": [],
   "source": [
    "# Configuring a Monte Carlo simulation to forecast 5 years cumulative returns\n",
    "# YOUR CODE HERE!"
   ]
  },
  {
   "cell_type": "code",
   "execution_count": 27,
   "metadata": {},
   "outputs": [],
   "source": [
    "# Running a Monte Carlo simulation to forecast 5 years cumulative returns\n",
    "# YOUR CODE HERE!"
   ]
  },
  {
   "cell_type": "code",
   "execution_count": 28,
   "metadata": {},
   "outputs": [],
   "source": [
    "# Plot simulation outcomes\n",
    "# YOUR CODE HERE!"
   ]
  },
  {
   "cell_type": "code",
   "execution_count": 29,
   "metadata": {},
   "outputs": [],
   "source": [
    "# Plot probability distribution and confidence intervals\n",
    "# YOUR CODE HERE!"
   ]
  },
  {
   "cell_type": "code",
   "execution_count": 30,
   "metadata": {},
   "outputs": [],
   "source": [
    "# Fetch summary statistics from the Monte Carlo simulation results\n",
    "# YOUR CODE HERE!\n",
    "\n",
    "# Print summary statistics\n",
    "# YOUR CODE HERE!"
   ]
  },
  {
   "cell_type": "code",
   "execution_count": 31,
   "metadata": {},
   "outputs": [
    {
     "ename": "NameError",
     "evalue": "name 'ci_lower_five' is not defined",
     "output_type": "error",
     "traceback": [
      "\u001b[0;31m---------------------------------------------------------------------------\u001b[0m",
      "\u001b[0;31mNameError\u001b[0m                                 Traceback (most recent call last)",
      "\u001b[0;32m/var/folders/dz/r4m9hzln7bvcnyx_qt9gk5m80000gn/T/ipykernel_12999/2498605119.py\u001b[0m in \u001b[0;36m<module>\u001b[0;34m\u001b[0m\n\u001b[1;32m      6\u001b[0m \u001b[0;34m\u001b[0m\u001b[0m\n\u001b[1;32m      7\u001b[0m \u001b[0;31m# Print results\u001b[0m\u001b[0;34m\u001b[0m\u001b[0;34m\u001b[0m\u001b[0;34m\u001b[0m\u001b[0m\n\u001b[0;32m----> 8\u001b[0;31m print(f\"There is a 95% chance that an initial investment of ${initial_investment} in the portfolio\"\n\u001b[0m\u001b[1;32m      9\u001b[0m       \u001b[0;34mf\" over the next 5 years will end within in the range of\"\u001b[0m\u001b[0;34m\u001b[0m\u001b[0;34m\u001b[0m\u001b[0m\n\u001b[1;32m     10\u001b[0m       f\" ${ci_lower_five} and ${ci_upper_five}\")\n",
      "\u001b[0;31mNameError\u001b[0m: name 'ci_lower_five' is not defined"
     ]
    }
   ],
   "source": [
    "# Set initial investment\n",
    "# YOUR CODE HERE!\n",
    "\n",
    "# Use the lower and upper `95%` confidence intervals to calculate the range of the possible outcomes of our $60,000\n",
    "# YOUR CODE HERE!\n",
    "\n",
    "# Print results\n",
    "print(f\"There is a 95% chance that an initial investment of ${initial_investment} in the portfolio\"\n",
    "      f\" over the next 5 years will end within in the range of\"\n",
    "      f\" ${ci_lower_five} and ${ci_upper_five}\")"
   ]
  },
  {
   "cell_type": "markdown",
   "metadata": {},
   "source": [
    "### Ten Years Retirement Option"
   ]
  },
  {
   "cell_type": "code",
   "execution_count": null,
   "metadata": {},
   "outputs": [],
   "source": [
    "# Configuring a Monte Carlo simulation to forecast 10 years cumulative returns\n",
    "# YOUR CODE HERE!"
   ]
  },
  {
   "cell_type": "code",
   "execution_count": null,
   "metadata": {},
   "outputs": [],
   "source": [
    "# Running a Monte Carlo simulation to forecast 10 years cumulative returns\n",
    "# YOUR CODE HERE!"
   ]
  },
  {
   "cell_type": "code",
   "execution_count": null,
   "metadata": {},
   "outputs": [],
   "source": [
    "# Plot simulation outcomes\n",
    "# YOUR CODE HERE!"
   ]
  },
  {
   "cell_type": "code",
   "execution_count": null,
   "metadata": {},
   "outputs": [],
   "source": [
    "# Plot probability distribution and confidence intervals\n",
    "# YOUR CODE HERE!"
   ]
  },
  {
   "cell_type": "code",
   "execution_count": null,
   "metadata": {},
   "outputs": [],
   "source": [
    "# Fetch summary statistics from the Monte Carlo simulation results\n",
    "# YOUR CODE HERE!\n",
    "\n",
    "# Print summary statistics\n",
    "# YOUR CODE HERE!"
   ]
  },
  {
   "cell_type": "code",
   "execution_count": null,
   "metadata": {},
   "outputs": [],
   "source": [
    "# Set initial investment\n",
    "# YOUR CODE HERE!\n",
    "\n",
    "# Use the lower and upper `95%` confidence intervals to calculate the range of the possible outcomes of our $60,000\n",
    "# YOUR CODE HERE!\n",
    "\n",
    "# Print results\n",
    "print(f\"There is a 95% chance that an initial investment of ${initial_investment} in the portfolio\"\n",
    "      f\" over the next 10 years will end within in the range of\"\n",
    "      f\" ${ci_lower_ten} and ${ci_upper_ten}\")"
   ]
  },
  {
   "cell_type": "code",
   "execution_count": null,
   "metadata": {},
   "outputs": [],
   "source": []
  }
 ],
 "metadata": {
  "kernelspec": {
   "display_name": "Python 3",
   "language": "python",
   "name": "python3"
  },
  "language_info": {
   "codemirror_mode": {
    "name": "ipython",
    "version": 3
   },
   "file_extension": ".py",
   "mimetype": "text/x-python",
   "name": "python",
   "nbconvert_exporter": "python",
   "pygments_lexer": "ipython3",
   "version": "3.7.11"
  },
  "nteract": {
   "version": "0.28.0"
  }
 },
 "nbformat": 4,
 "nbformat_minor": 4
}
